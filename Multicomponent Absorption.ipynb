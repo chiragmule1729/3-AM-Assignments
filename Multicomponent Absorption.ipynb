{
 "cells": [
  {
   "cell_type": "markdown",
   "metadata": {},
   "source": [
    "<h1> Multicomponent gas absorption </h1>"
   ]
  },
  {
   "cell_type": "markdown",
   "metadata": {},
   "source": [
    "<img src=\"https://5.imimg.com/data5/AJ/YS/MY-3493775/scrubber-column-500x500.jpg\" /> "
   ]
  },
  {
   "cell_type": "markdown",
   "metadata": {},
   "source": [
    "<h2> What exactly are we doing? </h2>\n",
    "We are solving for the initial value problem\n",
    "There is a gas mixture consists of <b><i>\"Acetaldehyde\"</i></b> & <b><i>\"Acetone\"</i></b>.The mixture is scrubbed using pure water. (Heat balances are ignored). Pure water comes from the top & gases come from bottom. No reaction is taking place.  "
   ]
  },
  {
   "cell_type": "markdown",
   "metadata": {},
   "source": [
    "<h3> Formulae used </h3>\n",
    "$$\n",
    "    \\frac{dy}{dz} = \\frac{S.k_{Ga}}{G_{s}}_*\\frac{(1-y)_{iLm}}{(1-y)*(y-y_{i})}\n",
    "$$\n",
    "\n",
    "$$\n",
    "    \\frac{dx}{dz} = \\frac{S.k_{La}}{L_{s}}_*\\frac{(1-x)_{iLm}}{(1-x)*(x-x_{i})}\n",
    "$$\n",
    "\n",
    "\n",
    "$$\n",
    "    xi=\\frac{(y+\\frac{k_{La}}{k_{Ga}})}{1}_*\\frac{1}{(x+\\frac{k_{La}}{k_{Ga}})}\n",
    "$$"
   ]
  },
  {
   "cell_type": "markdown",
   "metadata": {},
   "source": [
    "<h2> How are we solving? </h2>\n",
    "We are solving for the initial value boundary residuals. Residual goes to zero."
   ]
  },
  {
   "cell_type": "code",
   "execution_count": 1,
   "metadata": {},
   "outputs": [],
   "source": [
    "import scipy\n",
    "import scipy.integrate as scint\n",
    "import scipy.optimize as scopt\n",
    "import matplotlib.pyplot as plt\n",
    "import pandas as pd\n",
    "from scipy.misc import derivative"
   ]
  },
  {
   "cell_type": "code",
   "execution_count": 2,
   "metadata": {},
   "outputs": [],
   "source": [
    "Ls=200 #molar water flow rate\n",
    "Gi=150 #molar gas flow rate input\n",
    "D=0.5\n",
    "y1i=0.05 #mole fractions\n",
    "y2i=0.05 #mole fractions\n",
    "Gs=(1-y1i-y2i)*Gi\n",
    "M=Gs/Gi*28.81+y1i*30+y2i*28\n",
    "Qg=Gi*M*1e-3/1.225\n",
    "S=scipy.pi*0.25*D**2\n",
    "ug=Qg/S\n",
    "kLa=0.0269*ug**0.82\n",
    "kGa=0.0005\n",
    "H1=40.54\n",
    "H2=20.13\n",
    "H=3\n"
   ]
  },
  {
   "cell_type": "code",
   "execution_count": 3,
   "metadata": {},
   "outputs": [],
   "source": [
    "#finding x1i\n",
    "def findx1i(x1,y1,x1i):\n",
    "    x1i=(y1+kLa/kGa*x1)/(kLa/kGa+H1)\n",
    "    return x1i"
   ]
  },
  {
   "cell_type": "code",
   "execution_count": 4,
   "metadata": {},
   "outputs": [],
   "source": [
    "#finding x2i\n",
    "def findx2i(x2,y2,x2i):\n",
    "    x2i=(y2+kLa/kGa*x2)/(kLa/kGa+H2)\n",
    "    return x2i"
   ]
  },
  {
   "cell_type": "code",
   "execution_count": 5,
   "metadata": {},
   "outputs": [],
   "source": [
    "def model(SV,z,obj):\n",
    "    [x1,x2,y1,y2]=SV\n",
    "    D=obj.D\n",
    "    S=obj.S\n",
    "    Ls=obj.Ls\n",
    "    H1=obj.H1\n",
    "    H2=obj.H2\n",
    "    H=obj.H\n",
    "    x1i=0.005\n",
    "    x2i=0.005\n",
    "    dx1bydz=kLa*S/Ls*(1-x1)**2*scipy.log((1-x1)/(1-findx1i(x1,y1,x1i)))\n",
    "    dx2bydz=kLa*S/Ls*(1-x2)**2*scipy.log((1-x2)/(1-findx2i(x2,y2,x2i)))\n",
    "    dy1bydz=-kGa*S/Gs*(1-y1)**2*scipy.log((1-y1)/(1-H1*x1i))\n",
    "    dy2bydz=-kGa*S/Gs*(1-y2)**2*scipy.log((1-y2)/(1-H2*x2i))\n",
    "    return [dx1bydz,dx2bydz,dy1bydz,dy2bydz]\n",
    "\n",
    "            \n",
    "        \n",
    "    "
   ]
  },
  {
   "cell_type": "code",
   "execution_count": 6,
   "metadata": {},
   "outputs": [],
   "source": [
    "def get_boundary_residuals(SV0, obj):\n",
    "    z = scipy.array([0, obj.H])\n",
    "    trial_solution = scint.odeint(model, SV0, z, args = (obj,))\n",
    "    SVi = trial_solution[0]\n",
    "    SVb = trial_solution[-1]\n",
    "    error = []\n",
    "    k = 0\n",
    "    for ic in obj.initial_conditions:\n",
    "        error.append(ic - SVi[k])\n",
    "        k += 1\n",
    "    for bc in obj.boundary_conditions:\n",
    "        error.append(bc - SVb[k])\n",
    "        k += 1\n",
    "    return error"
   ]
  },
  {
   "cell_type": "code",
   "execution_count": 7,
   "metadata": {},
   "outputs": [],
   "source": [
    "class absorption:\n",
    "    def __init__(self):\n",
    "        self.D=0.5\n",
    "        self.S=scipy.pi*0.25*D**2\n",
    "        self.Ls=250\n",
    "        self.H1=299\n",
    "        self.H2=354\n",
    "        self.H=3\n",
    "        self.y1in=0.04\n",
    "        self.y2in=0.04\n",
    "        self.x1in=0\n",
    "        self.x2in=0\n",
    "    def solve(self):\n",
    "        self.x=scipy.linspace(0,self.H,10)\n",
    "        self.initial_conditions=[self.y1in,self.y2in]\n",
    "        self.boundary_conditions=[self.x1in,self.x2in]\n",
    "        SV0=self.initial_conditions + self.boundary_conditions\n",
    "        shooting_method_solution = scopt.least_squares(get_boundary_residuals,\n",
    "                                                      SV0,\n",
    "                                                      args = (self,))\n",
    "        SV0=shooting_method_solution.x\n",
    "        solution = scint.odeint(model, SV0, self.x, args = (self,))\n",
    "        self.solution=pd.DataFrame({\n",
    "            \"x\":self.x,\n",
    "            \"x1\":solution[:,0],\n",
    "            \"x2\":solution[:,1],\n",
    "            \"y1\":solution[:,2],\n",
    "            \"y2\":solution[:,3],\n",
    "            \n",
    "        }\n",
    "        \n",
    "        )\n",
    "    def plotx(self):\n",
    "        fig = plt.figure()\n",
    "        ax = fig.add_subplot(111)\n",
    "        ax.plot(self.solution[\"x\"], \n",
    "                self.solution[\"x1\"],\n",
    "                'c', label = \"Acetaldehyde\")\n",
    "        ax.plot(self.solution[\"x\"],\n",
    "               self.solution[\"x2\"],\n",
    "               'g', label=\"Acetone\")\n",
    "        ax.legend()\n",
    "        ax.xaxis.label.set_text(\"Height in m\")\n",
    "        ax.yaxis.label.set_text(\"mole fraction in gas\")\n",
    "        ax.title.set_text(\"Concentration Profiles\")\n",
    "    def ploty(self):\n",
    "        fig = plt.figure()\n",
    "        ax = fig.add_subplot(111)\n",
    "        ax.plot(self.solution[\"x\"], \n",
    "                self.solution[\"y1\"],\n",
    "                'c', label = \"Acetaldehyde\")\n",
    "        ax.plot(self.solution[\"x\"],\n",
    "               self.solution[\"y2\"],\n",
    "               'g', label=\"Acetone\")\n",
    "        ax.legend()\n",
    "        ax.xaxis.label.set_text(\"Height in m\")\n",
    "        ax.yaxis.label.set_text(\"mole fraction in liquid\")\n",
    "        ax.title.set_text(\"Concentration Profiles\")"
   ]
  },
  {
   "cell_type": "code",
   "execution_count": 8,
   "metadata": {},
   "outputs": [],
   "source": [
    "cchex1 = absorption()\n",
    "cchex1.H = 5"
   ]
  },
  {
   "cell_type": "code",
   "execution_count": 12,
   "metadata": {},
   "outputs": [],
   "source": [
    "cchex1.solve()"
   ]
  },
  {
   "cell_type": "code",
   "execution_count": 10,
   "metadata": {},
   "outputs": [
    {
     "data": {
      "text/html": [
       "<div>\n",
       "<style scoped>\n",
       "    .dataframe tbody tr th:only-of-type {\n",
       "        vertical-align: middle;\n",
       "    }\n",
       "\n",
       "    .dataframe tbody tr th {\n",
       "        vertical-align: top;\n",
       "    }\n",
       "\n",
       "    .dataframe thead th {\n",
       "        text-align: right;\n",
       "    }\n",
       "</style>\n",
       "<table border=\"1\" class=\"dataframe\">\n",
       "  <thead>\n",
       "    <tr style=\"text-align: right;\">\n",
       "      <th></th>\n",
       "      <th>x</th>\n",
       "      <th>x1</th>\n",
       "      <th>x2</th>\n",
       "      <th>y1</th>\n",
       "      <th>y2</th>\n",
       "    </tr>\n",
       "  </thead>\n",
       "  <tbody>\n",
       "    <tr>\n",
       "      <td>0</td>\n",
       "      <td>0.000000</td>\n",
       "      <td>0.040000</td>\n",
       "      <td>0.040000</td>\n",
       "      <td>2.556887e-06</td>\n",
       "      <td>9.503465e-07</td>\n",
       "    </tr>\n",
       "    <tr>\n",
       "      <td>1</td>\n",
       "      <td>0.555556</td>\n",
       "      <td>0.040000</td>\n",
       "      <td>0.040000</td>\n",
       "      <td>2.272789e-06</td>\n",
       "      <td>8.447526e-07</td>\n",
       "    </tr>\n",
       "    <tr>\n",
       "      <td>2</td>\n",
       "      <td>1.111111</td>\n",
       "      <td>0.039999</td>\n",
       "      <td>0.040000</td>\n",
       "      <td>1.988692e-06</td>\n",
       "      <td>7.391587e-07</td>\n",
       "    </tr>\n",
       "    <tr>\n",
       "      <td>3</td>\n",
       "      <td>1.666667</td>\n",
       "      <td>0.039999</td>\n",
       "      <td>0.040000</td>\n",
       "      <td>1.704593e-06</td>\n",
       "      <td>6.335648e-07</td>\n",
       "    </tr>\n",
       "    <tr>\n",
       "      <td>4</td>\n",
       "      <td>2.222222</td>\n",
       "      <td>0.039999</td>\n",
       "      <td>0.039999</td>\n",
       "      <td>1.420495e-06</td>\n",
       "      <td>5.279708e-07</td>\n",
       "    </tr>\n",
       "    <tr>\n",
       "      <td>5</td>\n",
       "      <td>2.777778</td>\n",
       "      <td>0.039998</td>\n",
       "      <td>0.039999</td>\n",
       "      <td>1.136397e-06</td>\n",
       "      <td>4.223768e-07</td>\n",
       "    </tr>\n",
       "    <tr>\n",
       "      <td>6</td>\n",
       "      <td>3.333333</td>\n",
       "      <td>0.039998</td>\n",
       "      <td>0.039999</td>\n",
       "      <td>8.522978e-07</td>\n",
       "      <td>3.167826e-07</td>\n",
       "    </tr>\n",
       "    <tr>\n",
       "      <td>7</td>\n",
       "      <td>3.888889</td>\n",
       "      <td>0.039998</td>\n",
       "      <td>0.039999</td>\n",
       "      <td>5.681987e-07</td>\n",
       "      <td>2.111885e-07</td>\n",
       "    </tr>\n",
       "    <tr>\n",
       "      <td>8</td>\n",
       "      <td>4.444444</td>\n",
       "      <td>0.039997</td>\n",
       "      <td>0.039999</td>\n",
       "      <td>2.840993e-07</td>\n",
       "      <td>1.055942e-07</td>\n",
       "    </tr>\n",
       "    <tr>\n",
       "      <td>9</td>\n",
       "      <td>5.000000</td>\n",
       "      <td>0.039997</td>\n",
       "      <td>0.039999</td>\n",
       "      <td>-4.116221e-13</td>\n",
       "      <td>-9.680519e-14</td>\n",
       "    </tr>\n",
       "  </tbody>\n",
       "</table>\n",
       "</div>"
      ],
      "text/plain": [
       "          x        x1        x2            y1            y2\n",
       "0  0.000000  0.040000  0.040000  2.556887e-06  9.503465e-07\n",
       "1  0.555556  0.040000  0.040000  2.272789e-06  8.447526e-07\n",
       "2  1.111111  0.039999  0.040000  1.988692e-06  7.391587e-07\n",
       "3  1.666667  0.039999  0.040000  1.704593e-06  6.335648e-07\n",
       "4  2.222222  0.039999  0.039999  1.420495e-06  5.279708e-07\n",
       "5  2.777778  0.039998  0.039999  1.136397e-06  4.223768e-07\n",
       "6  3.333333  0.039998  0.039999  8.522978e-07  3.167826e-07\n",
       "7  3.888889  0.039998  0.039999  5.681987e-07  2.111885e-07\n",
       "8  4.444444  0.039997  0.039999  2.840993e-07  1.055942e-07\n",
       "9  5.000000  0.039997  0.039999 -4.116221e-13 -9.680519e-14"
      ]
     },
     "execution_count": 10,
     "metadata": {},
     "output_type": "execute_result"
    }
   ],
   "source": [
    "cchex1.solution"
   ]
  },
  {
   "cell_type": "code",
   "execution_count": 11,
   "metadata": {},
   "outputs": [
    {
     "data": {
      "text/plain": [
       "(None, None)"
      ]
     },
     "execution_count": 11,
     "metadata": {},
     "output_type": "execute_result"
    },
    {
     "data": {
      "image/png": "[encoded data removed]",
      "text/plain": [
       "<Figure size 432x288 with 1 Axes>"
      ]
     },
     "metadata": {
      "needs_background": "light"
     },
     "output_type": "display_data"
    },
    {
     "data": {
      "image/png": "[encoded data removed]",
      "text/plain": [
       "<Figure size 432x288 with 1 Axes>"
      ]
     },
     "metadata": {
      "needs_background": "light"
     },
     "output_type": "display_data"
    }
   ],
   "source": [
    "cchex1.plotx(),cchex1.ploty()"
   ]
  },
  {
   "cell_type": "code",
   "execution_count": null,
   "metadata": {},
   "outputs": [],
   "source": []
  }
 ],
 "metadata": {
  "kernelspec": {
   "display_name": "Python 3",
   "language": "python",
   "name": "python3"
  },
  "language_info": {
   "codemirror_mode": {
    "name": "ipython",
    "version": 3
   },
   "file_extension": ".py",
   "mimetype": "text/x-python",
   "name": "python",
   "nbconvert_exporter": "python",
   "pygments_lexer": "ipython3",
   "version": "3.7.4"
  }
 },
 "nbformat": 4,
 "nbformat_minor": 2
}
