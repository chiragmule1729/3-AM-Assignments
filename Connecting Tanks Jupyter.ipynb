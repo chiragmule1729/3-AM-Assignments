{
 "cells": [
  {
   "cell_type": "markdown",
   "metadata": {},
   "source": [
    "<h2> <b> CONNECTING TANKS SYSTEM ANALYSIS </b> </h2>\n",
    "\n",
    "<p style=\"font-calibri; color:black;\"> In the <I>Chemical Process Control</I> course, I recently studied the concept of <u>\"Connecting Tanks System\"</u>. In the class, we were told to solve this analytically.It was a simple system but for complicated systems, it will get difficult to solve the ODEs analytically. At the same time, I was having a course on python and my first assignment was solving any ODE using python. I learnt the basic syntax and solved a general ODE just when it striked in my mind that I can solve the Connecting Tank system very easily with python. <big> <b> So, I tried this at 3 AM ! </b> </big> </p>\n"
   ]
  },
  {
   "cell_type": "markdown",
   "metadata": {},
   "source": [
    "<img src=\"http://tool.uml.com.cn/ToolsEA/UserGuide/images/sysmlsim_example_twotanks_real.png\" />\n"
   ]
  },
  {
   "cell_type": "markdown",
   "metadata": {},
   "source": [
    "<b> What's the question </b>\n",
    "\n",
    "There are two tanks <I>(Tank 1 and Tank 2)</I>. water comes from source and enters <I>Tank 1</I>, goes to <I>Tank 2</I> and then goes out from <I>Tank 2</I>. R1, R2 are resistances of the pipes. Let output flow be proportional to height of the water for both the tanks. We want to know how the system will respond on the step change in the input flow of water.\n",
    "   "
   ]
  },
  {
   "cell_type": "code",
   "execution_count": 1,
   "metadata": {},
   "outputs": [],
   "source": [
    "import numpy as np\n",
    "from scipy.integrate import odeint\n",
    "import matplotlib.pyplot as plt"
   ]
  },
  {
   "cell_type": "code",
   "execution_count": 2,
   "metadata": {},
   "outputs": [],
   "source": [
    "# Defining the function\n",
    "def control(z,t,Fi):\n",
    "    R1=1 #Resistance of outlet of tank 1\n",
    "    R2=2 #Resistance of outlet of tank 2\n",
    "    T1=5 #Tau for tank 1, A=5\n",
    "    T2=10 #Tau for tank 2, A=5\n",
    "    h1 = z[0] #deiation Level in tank 1 wrt time\n",
    "    h2 = z[1] #deviation level in tank 2 wrt time\n",
    "    dh1bydt = (-h1 + Fi*R1)/T1\n",
    "    dh2bydt = (-h2 + h1*(R2/R1))/T2\n",
    "    dzdt = [dh1bydt,dh2bydt]\n",
    "    return dzdt"
   ]
  },
  {
   "cell_type": "code",
   "execution_count": 3,
   "metadata": {},
   "outputs": [],
   "source": [
    "# initial condition at t=0\n",
    "z0 = [0,0] #Because h1 & h2 are deviation variables"
   ]
  },
  {
   "cell_type": "code",
   "execution_count": 4,
   "metadata": {},
   "outputs": [],
   "source": [
    "# time points\n",
    "t = np.linspace(0,200,400)"
   ]
  },
  {
   "cell_type": "code",
   "execution_count": 5,
   "metadata": {},
   "outputs": [],
   "source": [
    "# step change in input\n",
    "Fi = np.zeros(400)\n",
    "# change = 5.0\n",
    "Fi[51:] = 5.0"
   ]
  },
  {
   "cell_type": "code",
   "execution_count": 6,
   "metadata": {},
   "outputs": [],
   "source": [
    "# store solution\n",
    "x = np.empty_like(t)\n",
    "y = np.empty_like(t)\n",
    "# record initial conditions\n",
    "x[0] = z0[0]\n",
    "y[0] = z0[1]\n"
   ]
  },
  {
   "cell_type": "code",
   "execution_count": 7,
   "metadata": {},
   "outputs": [],
   "source": [
    "# solve ODE\n",
    "for i in range(1,400):\n",
    "    # span for next time step\n",
    "    tspan = [t[i-1],t[i]]\n",
    "    # solve for next step\n",
    "    z = odeint(control,z0,tspan,args=(Fi[i],))\n",
    "    # store solution for plotting\n",
    "    x[i] = z[1][0]\n",
    "    y[i] = z[1][1]\n",
    "    # next initial condition\n",
    "    z0 = z[1]"
   ]
  },
  {
   "cell_type": "code",
   "execution_count": 8,
   "metadata": {},
   "outputs": [
    {
     "data": {
      "image/png": "[encoded data removed]",
      "text/plain": [
       "<Figure size 432x288 with 1 Axes>"
      ]
     },
     "metadata": {
      "needs_background": "light"
     },
     "output_type": "display_data"
    }
   ],
   "source": [
    "# plot results\n",
    "plt.plot(t,Fi,'g:',label='input')\n",
    "plt.plot(t,x,'b-',label='Tank 1 output')\n",
    "plt.plot(t,y,'r--',label='Tank 2 output')\n",
    "plt.ylabel('variables')\n",
    "plt.xlabel('time')\n",
    "plt.legend(loc='best')\n",
    "plt.show()"
   ]
  }
 ],
 "metadata": {
  "kernelspec": {
   "display_name": "Python 3",
   "language": "python",
   "name": "python3"
  },
  "language_info": {
   "codemirror_mode": {
    "name": "ipython",
    "version": 3
   },
   "file_extension": ".py",
   "mimetype": "text/x-python",
   "name": "python",
   "nbconvert_exporter": "python",
   "pygments_lexer": "ipython3",
   "version": "3.7.4"
  }
 },
 "nbformat": 4,
 "nbformat_minor": 2
}
